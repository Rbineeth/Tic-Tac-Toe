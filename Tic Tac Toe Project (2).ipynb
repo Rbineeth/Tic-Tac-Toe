{
 "cells": [
  {
   "cell_type": "code",
   "execution_count": null,
   "id": "9e19e798-e8ca-4ca9-9698-c3d0158278c5",
   "metadata": {},
   "outputs": [],
   "source": [
    "# TIC"
   ]
  },
  {
   "cell_type": "code",
   "execution_count": 1,
   "id": "3556f687-6ded-477b-9e3e-4e7cc5cbf482",
   "metadata": {},
   "outputs": [
    {
     "name": "stdout",
     "output_type": "stream",
     "text": [
      "  |   |  \n",
      "---------\n",
      "  |   |  \n",
      "---------\n",
      "  |   |  \n",
      "\n",
      "  | x |  \n",
      "---------\n",
      "  |   |  \n",
      "---------\n",
      "  |   |  \n",
      "\n"
     ]
    },
    {
     "name": "stdin",
     "output_type": "stream",
     "text": [
      "Enter the position to insert (1-9):  2\n",
      "Position not free! Please re-enter a position:  3\n"
     ]
    },
    {
     "name": "stdout",
     "output_type": "stream",
     "text": [
      "  | x | o\n",
      "---------\n",
      "  |   |  \n",
      "---------\n",
      "  |   |  \n",
      "\n",
      "  | x | o\n",
      "---------\n",
      "x |   |  \n",
      "---------\n",
      "  |   |  \n",
      "\n"
     ]
    },
    {
     "name": "stdin",
     "output_type": "stream",
     "text": [
      "Enter the position to insert (1-9):  7\n"
     ]
    },
    {
     "name": "stdout",
     "output_type": "stream",
     "text": [
      "  | x | o\n",
      "---------\n",
      "x |   |  \n",
      "---------\n",
      "o |   |  \n",
      "\n",
      "x | x | o\n",
      "---------\n",
      "x |   |  \n",
      "---------\n",
      "o |   |  \n",
      "\n"
     ]
    },
    {
     "name": "stdin",
     "output_type": "stream",
     "text": [
      "Enter the position to insert (1-9):  5\n"
     ]
    },
    {
     "name": "stdout",
     "output_type": "stream",
     "text": [
      "x | x | o\n",
      "---------\n",
      "x | o |  \n",
      "---------\n",
      "o |   |  \n",
      "\n",
      "Human wins!\n"
     ]
    }
   ],
   "source": [
    "import random\n",
    "board = [' '] * 10\n",
    "computer = 'x'\n",
    "human = 'o'\n",
    "game_on = True\n",
    "\n",
    "def display_board(board):\n",
    "    print(f'{board[1]} | {board[2]} | {board[3]}')\n",
    "    print('---------')\n",
    "    print(f'{board[4]} | {board[5]} | {board[6]}')\n",
    "    print('---------')\n",
    "    print(f'{board[7]} | {board[8]} | {board[9]}')\n",
    "    print()\n",
    "\n",
    "def check_win():\n",
    "    if board[1] == board[2] == board[3] and board[1] != ' ':\n",
    "        return True\n",
    "    elif board[4] == board[5] == board[6] and board[4] != ' ':\n",
    "        return True\n",
    "    elif board[7] == board[8] == board[9] and board[7] != ' ':\n",
    "        return True\n",
    "    elif board[1] == board[4] == board[7] and board[1] != ' ':\n",
    "        return True\n",
    "    elif board[2] == board[5] == board[8] and board[2] != ' ':\n",
    "        return True\n",
    "    elif board[3] == board[6] == board[9] and board[3] != ' ':\n",
    "        return True\n",
    "    elif board[1] == board[5] == board[9] and board[1] != ' ':\n",
    "        return True\n",
    "    elif board[3] == board[5] == board[7] and board[3] != ' ':\n",
    "        return True\n",
    "    else:\n",
    "        return False\n",
    "\n",
    "def check_draw():\n",
    "    if board.count(' ') <= 1:\n",
    "        return True\n",
    "    else:\n",
    "        return False\n",
    "\n",
    "def is_available(pos):\n",
    "    return True if board[pos] == ' ' else False\n",
    "\n",
    "def insert(letter, pos):\n",
    "    global game_on\n",
    "    if is_available(pos):\n",
    "        board[pos] = letter\n",
    "        display_board(board)\n",
    "        if check_win():\n",
    "            if letter == 'x':\n",
    "                print('Computer wins!')\n",
    "            else:\n",
    "                print('Human wins!')\n",
    "            game_on = False\n",
    "        elif check_draw():\n",
    "            print('Draw!')\n",
    "            game_on = False\n",
    "    else:\n",
    "        if letter == 'o':\n",
    "            pos = int(input('Position not free! Please re-enter a position: '))\n",
    "        else:\n",
    "            pos = random.randint(1, 9)\n",
    "        insert(letter, pos)\n",
    "\n",
    "def human_move(letter):\n",
    "    pos = int(input('Enter the position to insert (1-9): '))\n",
    "    insert(letter, pos)\n",
    "\n",
    "def computer_move(letter):\n",
    "    pos = random.randint(1, 9)\n",
    "    insert(letter, pos)\n",
    "\n",
    "\n",
    "display_board(board)\n",
    "\n",
    "while game_on:\n",
    "    computer_move(computer)\n",
    "    if not game_on:\n",
    "        break\n",
    "    human_move(human)\n",
    "    if not game_on:\n",
    "        break\n",
    "\n"
   ]
  },
  {
   "cell_type": "code",
   "execution_count": null,
   "id": "7cb88658-9a6e-49a0-b63f-aca906466b31",
   "metadata": {},
   "outputs": [],
   "source": []
  }
 ],
 "metadata": {
  "kernelspec": {
   "display_name": "Python 3 (ipykernel)",
   "language": "python",
   "name": "python3"
  },
  "language_info": {
   "codemirror_mode": {
    "name": "ipython",
    "version": 3
   },
   "file_extension": ".py",
   "mimetype": "text/x-python",
   "name": "python",
   "nbconvert_exporter": "python",
   "pygments_lexer": "ipython3",
   "version": "3.12.4"
  }
 },
 "nbformat": 4,
 "nbformat_minor": 5
}
